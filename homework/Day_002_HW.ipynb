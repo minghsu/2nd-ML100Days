{
 "cells": [
  {
   "cell_type": "markdown",
   "metadata": {},
   "source": [
    "## 練習時間\n",
    "資料的操作有很多，接下來的馬拉松中我們會介紹常被使用到的操作，參加者不妨先自行想像一下，第一次看到資料，我們一般會想知道什麼訊息？\n",
    "\n",
    "#### Ex: 如何知道資料的 row 數以及 column 數、有什麼欄位、多少欄位、如何截取部分的資料等等\n",
    "\n",
    "有了對資料的好奇之後，我們又怎麼通過程式碼來達成我們的目的呢？\n",
    "\n",
    "#### 可參考該[基礎教材](https://bookdata.readthedocs.io/en/latest/base/01_pandas.html#DataFrame-%E5%85%A5%E9%97%A8)或自行 google"
   ]
  },
  {
   "cell_type": "code",
   "execution_count": 1,
   "metadata": {},
   "outputs": [],
   "source": [
    "import os\n",
    "import numpy as np\n",
    "import pandas as pd"
   ]
  },
  {
   "cell_type": "code",
   "execution_count": 2,
   "metadata": {},
   "outputs": [],
   "source": [
    "# 設定 data_path\n",
    "dir_data = './data/'"
   ]
  },
  {
   "cell_type": "code",
   "execution_count": 3,
   "metadata": {},
   "outputs": [
    {
     "name": "stdout",
     "output_type": "stream",
     "text": [
      "Path of read in data: ./data/application_train.csv\n"
     ]
    }
   ],
   "source": [
    "f_app = os.path.join(dir_data, 'application_train.csv')\n",
    "print('Path of read in data: %s' % (f_app))\n",
    "app_train = pd.read_csv(f_app)"
   ]
  },
  {
   "cell_type": "markdown",
   "metadata": {},
   "source": [
    "### 如果沒有想法，可以先嘗試找出剛剛例子中提到的問題的答案\n",
    "#### 資料的 row 數以及 column 數"
   ]
  },
  {
   "cell_type": "code",
   "execution_count": 4,
   "metadata": {},
   "outputs": [
    {
     "name": "stdout",
     "output_type": "stream",
     "text": [
      "Row 數: 307511, Column 數: 122\n"
     ]
    }
   ],
   "source": [
    "row_count = len(app_train.index)\n",
    "column_count = len(app_train.columns)\n",
    "\n",
    "print (\"Row 數: %d, Column 數: %d\" % (row_count, column_count))"
   ]
  },
  {
   "cell_type": "markdown",
   "metadata": {},
   "source": [
    "#### 列出所有欄位"
   ]
  },
  {
   "cell_type": "code",
   "execution_count": 5,
   "metadata": {},
   "outputs": [
    {
     "name": "stdout",
     "output_type": "stream",
     "text": [
      "['SK_ID_CURR', 'TARGET', 'NAME_CONTRACT_TYPE', 'CODE_GENDER', 'FLAG_OWN_CAR', 'FLAG_OWN_REALTY', 'CNT_CHILDREN', 'AMT_INCOME_TOTAL', 'AMT_CREDIT', 'AMT_ANNUITY', 'AMT_GOODS_PRICE', 'NAME_TYPE_SUITE', 'NAME_INCOME_TYPE', 'NAME_EDUCATION_TYPE', 'NAME_FAMILY_STATUS', 'NAME_HOUSING_TYPE', 'REGION_POPULATION_RELATIVE', 'DAYS_BIRTH', 'DAYS_EMPLOYED', 'DAYS_REGISTRATION', 'DAYS_ID_PUBLISH', 'OWN_CAR_AGE', 'FLAG_MOBIL', 'FLAG_EMP_PHONE', 'FLAG_WORK_PHONE', 'FLAG_CONT_MOBILE', 'FLAG_PHONE', 'FLAG_EMAIL', 'OCCUPATION_TYPE', 'CNT_FAM_MEMBERS', 'REGION_RATING_CLIENT', 'REGION_RATING_CLIENT_W_CITY', 'WEEKDAY_APPR_PROCESS_START', 'HOUR_APPR_PROCESS_START', 'REG_REGION_NOT_LIVE_REGION', 'REG_REGION_NOT_WORK_REGION', 'LIVE_REGION_NOT_WORK_REGION', 'REG_CITY_NOT_LIVE_CITY', 'REG_CITY_NOT_WORK_CITY', 'LIVE_CITY_NOT_WORK_CITY', 'ORGANIZATION_TYPE', 'EXT_SOURCE_1', 'EXT_SOURCE_2', 'EXT_SOURCE_3', 'APARTMENTS_AVG', 'BASEMENTAREA_AVG', 'YEARS_BEGINEXPLUATATION_AVG', 'YEARS_BUILD_AVG', 'COMMONAREA_AVG', 'ELEVATORS_AVG', 'ENTRANCES_AVG', 'FLOORSMAX_AVG', 'FLOORSMIN_AVG', 'LANDAREA_AVG', 'LIVINGAPARTMENTS_AVG', 'LIVINGAREA_AVG', 'NONLIVINGAPARTMENTS_AVG', 'NONLIVINGAREA_AVG', 'APARTMENTS_MODE', 'BASEMENTAREA_MODE', 'YEARS_BEGINEXPLUATATION_MODE', 'YEARS_BUILD_MODE', 'COMMONAREA_MODE', 'ELEVATORS_MODE', 'ENTRANCES_MODE', 'FLOORSMAX_MODE', 'FLOORSMIN_MODE', 'LANDAREA_MODE', 'LIVINGAPARTMENTS_MODE', 'LIVINGAREA_MODE', 'NONLIVINGAPARTMENTS_MODE', 'NONLIVINGAREA_MODE', 'APARTMENTS_MEDI', 'BASEMENTAREA_MEDI', 'YEARS_BEGINEXPLUATATION_MEDI', 'YEARS_BUILD_MEDI', 'COMMONAREA_MEDI', 'ELEVATORS_MEDI', 'ENTRANCES_MEDI', 'FLOORSMAX_MEDI', 'FLOORSMIN_MEDI', 'LANDAREA_MEDI', 'LIVINGAPARTMENTS_MEDI', 'LIVINGAREA_MEDI', 'NONLIVINGAPARTMENTS_MEDI', 'NONLIVINGAREA_MEDI', 'FONDKAPREMONT_MODE', 'HOUSETYPE_MODE', 'TOTALAREA_MODE', 'WALLSMATERIAL_MODE', 'EMERGENCYSTATE_MODE', 'OBS_30_CNT_SOCIAL_CIRCLE', 'DEF_30_CNT_SOCIAL_CIRCLE', 'OBS_60_CNT_SOCIAL_CIRCLE', 'DEF_60_CNT_SOCIAL_CIRCLE', 'DAYS_LAST_PHONE_CHANGE', 'FLAG_DOCUMENT_2', 'FLAG_DOCUMENT_3', 'FLAG_DOCUMENT_4', 'FLAG_DOCUMENT_5', 'FLAG_DOCUMENT_6', 'FLAG_DOCUMENT_7', 'FLAG_DOCUMENT_8', 'FLAG_DOCUMENT_9', 'FLAG_DOCUMENT_10', 'FLAG_DOCUMENT_11', 'FLAG_DOCUMENT_12', 'FLAG_DOCUMENT_13', 'FLAG_DOCUMENT_14', 'FLAG_DOCUMENT_15', 'FLAG_DOCUMENT_16', 'FLAG_DOCUMENT_17', 'FLAG_DOCUMENT_18', 'FLAG_DOCUMENT_19', 'FLAG_DOCUMENT_20', 'FLAG_DOCUMENT_21', 'AMT_REQ_CREDIT_BUREAU_HOUR', 'AMT_REQ_CREDIT_BUREAU_DAY', 'AMT_REQ_CREDIT_BUREAU_WEEK', 'AMT_REQ_CREDIT_BUREAU_MON', 'AMT_REQ_CREDIT_BUREAU_QRT', 'AMT_REQ_CREDIT_BUREAU_YEAR']\n"
     ]
    }
   ],
   "source": [
    "column_name = app_train.columns.values.tolist()\n",
    "print (column_name)"
   ]
  },
  {
   "cell_type": "markdown",
   "metadata": {},
   "source": [
    "#### 截取部分資料"
   ]
  },
  {
   "cell_type": "code",
   "execution_count": 6,
   "metadata": {},
   "outputs": [
    {
     "name": "stdout",
     "output_type": "stream",
     "text": [
      "   SK_ID_CURR NAME_CONTRACT_TYPE\n",
      "7      100010         Cash loans\n",
      "8      100011         Cash loans\n",
      "9      100012    Revolving loans\n"
     ]
    }
   ],
   "source": [
    "# 從第七筆開始取, 這例子只取三筆, 並只取 SK_ID_CURR & NAME_CONTRACT_TYPE 欄位\n",
    "print(app_train[['SK_ID_CURR','NAME_CONTRACT_TYPE']][7:10])"
   ]
  },
  {
   "cell_type": "markdown",
   "metadata": {},
   "source": [
    "#### 還有各種數之不盡的資料操作，重點還是取決於實務中遇到的狀況和你想問的問題，在馬拉松中我們也會陸續提到更多例子"
   ]
  },
  {
   "cell_type": "code",
   "execution_count": 7,
   "metadata": {
    "scrolled": false
   },
   "outputs": [
    {
     "name": "stdout",
     "output_type": "stream",
     "text": [
      "        SK_ID_CURR NAME_CONTRACT_TYPE CODE_GENDER\n",
      "0           100002         Cash loans           M\n",
      "1           100003         Cash loans           F\n",
      "3           100006         Cash loans           F\n",
      "4           100007         Cash loans           M\n",
      "5           100008         Cash loans           M\n",
      "6           100009         Cash loans           F\n",
      "7           100010         Cash loans           M\n",
      "8           100011         Cash loans           F\n",
      "10          100014         Cash loans           F\n",
      "11          100015         Cash loans           F\n",
      "12          100016         Cash loans           F\n",
      "13          100017         Cash loans           M\n",
      "14          100018         Cash loans           F\n",
      "15          100019         Cash loans           M\n",
      "16          100020         Cash loans           M\n",
      "19          100023         Cash loans           F\n",
      "21          100025         Cash loans           F\n",
      "22          100026         Cash loans           F\n",
      "23          100027         Cash loans           F\n",
      "24          100029         Cash loans           M\n",
      "25          100030         Cash loans           F\n",
      "26          100031         Cash loans           F\n",
      "27          100032         Cash loans           M\n",
      "28          100033         Cash loans           M\n",
      "30          100035         Cash loans           F\n",
      "31          100036         Cash loans           F\n",
      "32          100037         Cash loans           F\n",
      "33          100039         Cash loans           M\n",
      "34          100040         Cash loans           F\n",
      "35          100041         Cash loans           F\n",
      "...            ...                ...         ...\n",
      "307479      456219         Cash loans           F\n",
      "307480      456220         Cash loans           F\n",
      "307481      456225         Cash loans           M\n",
      "307482      456226         Cash loans           F\n",
      "307483      456227         Cash loans           F\n",
      "307484      456228         Cash loans           F\n",
      "307486      456230         Cash loans           F\n",
      "307487      456231         Cash loans           M\n",
      "307488      456232         Cash loans           F\n",
      "307489      456233         Cash loans           F\n",
      "307490      456234         Cash loans           M\n",
      "307491      456235         Cash loans           M\n",
      "307492      456236         Cash loans           M\n",
      "307493      456237         Cash loans           F\n",
      "307494      456238         Cash loans           M\n",
      "307495      456239         Cash loans           M\n",
      "307497      456241         Cash loans           F\n",
      "307498      456242         Cash loans           M\n",
      "307499      456243         Cash loans           F\n",
      "307500      456244         Cash loans           F\n",
      "307501      456245         Cash loans           F\n",
      "307502      456246         Cash loans           F\n",
      "307503      456247         Cash loans           F\n",
      "307504      456248         Cash loans           F\n",
      "307505      456249         Cash loans           F\n",
      "307506      456251         Cash loans           M\n",
      "307507      456252         Cash loans           F\n",
      "307508      456253         Cash loans           F\n",
      "307509      456254         Cash loans           F\n",
      "307510      456255         Cash loans           F\n",
      "\n",
      "[278232 rows x 3 columns]\n"
     ]
    }
   ],
   "source": [
    "# 列出 NAME_CONTRACT_TYPE 為 \"Cash loans\" 的資料\n",
    "fliter = (app_train[\"NAME_CONTRACT_TYPE\"] == \"Cash loans\")\n",
    "print(app_train[['SK_ID_CURR','NAME_CONTRACT_TYPE', 'CODE_GENDER']][fliter])"
   ]
  },
  {
   "cell_type": "code",
   "execution_count": 10,
   "metadata": {
    "scrolled": false
   },
   "outputs": [
    {
     "name": "stdout",
     "output_type": "stream",
     "text": [
      "Cash loans + UPDATE + UPDATE\n",
      "Cash loans + UPDATE + UPDATE\n",
      "Cash loans + UPDATE + UPDATE + UPDATE\n"
     ]
    }
   ],
   "source": [
    "# 取出特定位置的值\n",
    "print (app_train.iloc[7][2])\n",
    "print (app_train.iloc[7]['NAME_CONTRACT_TYPE'])\n",
    "\n",
    "# 更新特定位置的值\n",
    "app_train.iloc[[7], [2]] = app_train.iloc[7][2] + \" + UPDATE\"\n",
    "print (app_train.iloc[7][2])"
   ]
  },
  {
   "cell_type": "code",
   "execution_count": null,
   "metadata": {},
   "outputs": [],
   "source": []
  }
 ],
 "metadata": {
  "kernelspec": {
   "display_name": "Python 3",
   "language": "python",
   "name": "python3"
  },
  "language_info": {
   "codemirror_mode": {
    "name": "ipython",
    "version": 3
   },
   "file_extension": ".py",
   "mimetype": "text/x-python",
   "name": "python",
   "nbconvert_exporter": "python",
   "pygments_lexer": "ipython3",
   "version": "3.7.1"
  }
 },
 "nbformat": 4,
 "nbformat_minor": 2
}
